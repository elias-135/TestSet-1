{
 "cells": [
  {
   "cell_type": "markdown",
   "metadata": {},
   "source": [
    "# ML"
   ]
  },
  {
   "cell_type": "code",
   "execution_count": 14,
   "metadata": {},
   "outputs": [],
   "source": [
    "import pandas as pd\n",
    "import numpy as np\n",
    "import csv\n",
    "from sklearn.model_selection import train_test_split\n",
    "from sklearn.linear_model import LinearRegression, SGDRegressor\n",
    "from sklearn.metrics import mean_squared_error, mean_absolute_error, r2_score"
   ]
  },
  {
   "cell_type": "code",
   "execution_count": 15,
   "metadata": {},
   "outputs": [],
   "source": [
    "\n",
    "\n",
    "df=pd.read_csv('C:\\DataMining\\Examen01\\data\\ml\\dataset.csv')"
   ]
  },
  {
   "cell_type": "code",
   "execution_count": 16,
   "metadata": {},
   "outputs": [
    {
     "data": {
      "text/html": [
       "<div>\n",
       "<style scoped>\n",
       "    .dataframe tbody tr th:only-of-type {\n",
       "        vertical-align: middle;\n",
       "    }\n",
       "\n",
       "    .dataframe tbody tr th {\n",
       "        vertical-align: top;\n",
       "    }\n",
       "\n",
       "    .dataframe thead th {\n",
       "        text-align: right;\n",
       "    }\n",
       "</style>\n",
       "<table border=\"1\" class=\"dataframe\">\n",
       "  <thead>\n",
       "    <tr style=\"text-align: right;\">\n",
       "      <th></th>\n",
       "      <th>user_id</th>\n",
       "      <th>month_x</th>\n",
       "      <th>duration</th>\n",
       "      <th>message_count</th>\n",
       "      <th>totalcost_calls</th>\n",
       "      <th>mb_used</th>\n",
       "      <th>totalcost_messages</th>\n",
       "      <th>totalcost</th>\n",
       "    </tr>\n",
       "  </thead>\n",
       "  <tbody>\n",
       "    <tr>\n",
       "      <th>0</th>\n",
       "      <td>1000</td>\n",
       "      <td>12.0</td>\n",
       "      <td>116.83</td>\n",
       "      <td>11.0</td>\n",
       "      <td>0.11</td>\n",
       "      <td>1901.47</td>\n",
       "      <td>13.31029</td>\n",
       "      <td>84.58859</td>\n",
       "    </tr>\n",
       "    <tr>\n",
       "      <th>1</th>\n",
       "      <td>1001</td>\n",
       "      <td>8.0</td>\n",
       "      <td>171.14</td>\n",
       "      <td>30.0</td>\n",
       "      <td>0.90</td>\n",
       "      <td>6919.15</td>\n",
       "      <td>6.41915</td>\n",
       "      <td>32.45335</td>\n",
       "    </tr>\n",
       "    <tr>\n",
       "      <th>2</th>\n",
       "      <td>1001</td>\n",
       "      <td>8.0</td>\n",
       "      <td>171.14</td>\n",
       "      <td>30.0</td>\n",
       "      <td>0.90</td>\n",
       "      <td>6919.15</td>\n",
       "      <td>6.41915</td>\n",
       "      <td>43.06552</td>\n",
       "    </tr>\n",
       "    <tr>\n",
       "      <th>3</th>\n",
       "      <td>1001</td>\n",
       "      <td>8.0</td>\n",
       "      <td>171.14</td>\n",
       "      <td>30.0</td>\n",
       "      <td>0.90</td>\n",
       "      <td>6919.15</td>\n",
       "      <td>6.41915</td>\n",
       "      <td>54.64379</td>\n",
       "    </tr>\n",
       "    <tr>\n",
       "      <th>4</th>\n",
       "      <td>1001</td>\n",
       "      <td>8.0</td>\n",
       "      <td>171.14</td>\n",
       "      <td>30.0</td>\n",
       "      <td>0.90</td>\n",
       "      <td>6919.15</td>\n",
       "      <td>6.41915</td>\n",
       "      <td>50.32200</td>\n",
       "    </tr>\n",
       "    <tr>\n",
       "      <th>...</th>\n",
       "      <td>...</td>\n",
       "      <td>...</td>\n",
       "      <td>...</td>\n",
       "      <td>...</td>\n",
       "      <td>...</td>\n",
       "      <td>...</td>\n",
       "      <td>...</td>\n",
       "      <td>...</td>\n",
       "    </tr>\n",
       "    <tr>\n",
       "      <th>11121</th>\n",
       "      <td>1496</td>\n",
       "      <td>12.0</td>\n",
       "      <td>278.61</td>\n",
       "      <td>11.0</td>\n",
       "      <td>0.33</td>\n",
       "      <td>16438.99</td>\n",
       "      <td>15.93899</td>\n",
       "      <td>48.21747</td>\n",
       "    </tr>\n",
       "    <tr>\n",
       "      <th>11122</th>\n",
       "      <td>1496</td>\n",
       "      <td>12.0</td>\n",
       "      <td>278.61</td>\n",
       "      <td>11.0</td>\n",
       "      <td>0.33</td>\n",
       "      <td>16438.99</td>\n",
       "      <td>15.93899</td>\n",
       "      <td>43.36216</td>\n",
       "    </tr>\n",
       "    <tr>\n",
       "      <th>11123</th>\n",
       "      <td>1496</td>\n",
       "      <td>12.0</td>\n",
       "      <td>278.61</td>\n",
       "      <td>11.0</td>\n",
       "      <td>0.33</td>\n",
       "      <td>16438.99</td>\n",
       "      <td>15.93899</td>\n",
       "      <td>37.19376</td>\n",
       "    </tr>\n",
       "    <tr>\n",
       "      <th>11124</th>\n",
       "      <td>1496</td>\n",
       "      <td>12.0</td>\n",
       "      <td>278.61</td>\n",
       "      <td>11.0</td>\n",
       "      <td>0.33</td>\n",
       "      <td>16438.99</td>\n",
       "      <td>15.93899</td>\n",
       "      <td>44.62729</td>\n",
       "    </tr>\n",
       "    <tr>\n",
       "      <th>11125</th>\n",
       "      <td>1497</td>\n",
       "      <td>12.0</td>\n",
       "      <td>276.53</td>\n",
       "      <td>50.0</td>\n",
       "      <td>0.50</td>\n",
       "      <td>9885.11</td>\n",
       "      <td>48.19577</td>\n",
       "      <td>121.46107</td>\n",
       "    </tr>\n",
       "  </tbody>\n",
       "</table>\n",
       "<p>11126 rows × 8 columns</p>\n",
       "</div>"
      ],
      "text/plain": [
       "       user_id  month_x  duration  message_count  totalcost_calls   mb_used  \\\n",
       "0         1000     12.0    116.83           11.0             0.11   1901.47   \n",
       "1         1001      8.0    171.14           30.0             0.90   6919.15   \n",
       "2         1001      8.0    171.14           30.0             0.90   6919.15   \n",
       "3         1001      8.0    171.14           30.0             0.90   6919.15   \n",
       "4         1001      8.0    171.14           30.0             0.90   6919.15   \n",
       "...        ...      ...       ...            ...              ...       ...   \n",
       "11121     1496     12.0    278.61           11.0             0.33  16438.99   \n",
       "11122     1496     12.0    278.61           11.0             0.33  16438.99   \n",
       "11123     1496     12.0    278.61           11.0             0.33  16438.99   \n",
       "11124     1496     12.0    278.61           11.0             0.33  16438.99   \n",
       "11125     1497     12.0    276.53           50.0             0.50   9885.11   \n",
       "\n",
       "       totalcost_messages  totalcost  \n",
       "0                13.31029   84.58859  \n",
       "1                 6.41915   32.45335  \n",
       "2                 6.41915   43.06552  \n",
       "3                 6.41915   54.64379  \n",
       "4                 6.41915   50.32200  \n",
       "...                   ...        ...  \n",
       "11121            15.93899   48.21747  \n",
       "11122            15.93899   43.36216  \n",
       "11123            15.93899   37.19376  \n",
       "11124            15.93899   44.62729  \n",
       "11125            48.19577  121.46107  \n",
       "\n",
       "[11126 rows x 8 columns]"
      ]
     },
     "execution_count": 16,
     "metadata": {},
     "output_type": "execute_result"
    }
   ],
   "source": [
    "df"
   ]
  },
  {
   "cell_type": "code",
   "execution_count": 17,
   "metadata": {},
   "outputs": [],
   "source": [
    "y = df.iloc[:, -1]\n",
    "X = df.iloc[:, :-1]"
   ]
  },
  {
   "cell_type": "code",
   "execution_count": 18,
   "metadata": {},
   "outputs": [],
   "source": [
    "# Split dataset\n",
    "X_train, X_test, y_train, y_test = train_test_split(X, y, test_size=0.2, random_state=42)"
   ]
  },
  {
   "cell_type": "code",
   "execution_count": 19,
   "metadata": {},
   "outputs": [],
   "source": [
    "\n",
    "models = {\n",
    "    \"Linear Regression\": LinearRegression(),\n",
    "    \"Stochastic Gradient Descent\": SGDRegressor(max_iter=1000, tol=1e-3)\n",
    "}"
   ]
  },
  {
   "cell_type": "code",
   "execution_count": null,
   "metadata": {},
   "outputs": [],
   "source": [
    "results = {}\n",
    "for name, model in models.items():\n",
    "    model.fit(X_train, y_train)\n",
    "    y_pred = model.predict(X_test)\n",
    "    rmse = np.sqrt(mean_squared_error(y_test, y_pred))\n",
    "    mae = mean_absolute_error(y_test, y_pred)\n",
    "    r2 = r2_score(y_test, y_pred)\n",
    "    \n",
    "    results[name] = {\"RMSE\": rmse, \"MAE\": mae, \"R^2\": r2}"
   ]
  },
  {
   "cell_type": "code",
   "execution_count": null,
   "metadata": {},
   "outputs": [],
   "source": [
    "best_model = min(results, key=lambda x: results[x][\"RMSE\"])"
   ]
  },
  {
   "cell_type": "code",
   "execution_count": null,
   "metadata": {},
   "outputs": [
    {
     "name": "stdout",
     "output_type": "stream",
     "text": [
      "Linear Regression: {'RMSE': np.float64(31.109921680702303), 'MAE': 19.496301735096516, 'R^2': 0.7971469893509837}\n",
      "Stochastic Gradient Descent: {'RMSE': np.float64(6.629602537620471e+16), 'MAE': 6.177932470289466e+16, 'R^2': -9.212099206044271e+29}\n",
      "Best model: Linear Regression\n"
     ]
    }
   ],
   "source": [
    "for model, metrics in results.items():\n",
    "    print(f\"{model}: {metrics}\")\n",
    "print(f\"Best model: {best_model}\")"
   ]
  },
  {
   "cell_type": "code",
   "execution_count": null,
   "metadata": {},
   "outputs": [],
   "source": []
  }
 ],
 "metadata": {
  "kernelspec": {
   "display_name": "Python 3",
   "language": "python",
   "name": "python3"
  },
  "language_info": {
   "codemirror_mode": {
    "name": "ipython",
    "version": 3
   },
   "file_extension": ".py",
   "mimetype": "text/x-python",
   "name": "python",
   "nbconvert_exporter": "python",
   "pygments_lexer": "ipython3",
   "version": "3.10.13"
  }
 },
 "nbformat": 4,
 "nbformat_minor": 2
}
